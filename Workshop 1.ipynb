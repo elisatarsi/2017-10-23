{
 "cells": [
  {
   "cell_type": "markdown",
   "metadata": {},
   "source": [
    "WORKSHOP 1\n",
    "=========="
   ]
  },
  {
   "cell_type": "markdown",
   "metadata": {},
   "source": [
    "Convertire alcune funzioni prese dal Capitolo 1 e 2 del libro: Geometric Programming for Computer-Aided Design da Plasm in Python\n",
    "    ===================================================================================================================================="
   ]
  },
  {
   "cell_type": "markdown",
   "metadata": {},
   "source": [
    "Script 1.5.1 (Cap.1 pag.25)\n",
    "------"
   ]
  },
  {
   "cell_type": "markdown",
   "metadata": {},
   "source": [
    "Costruzione di un poliedro\n",
    "-----\n",
    "In questo script viene generato un poliedro in due modi differenti. La sequenza di vertici è definita da 'verts' e indicizzata da 'cells'. Un insieme di cells è definita da 'pols'  "
   ]
  },
  {
   "cell_type": "markdown",
   "metadata": {},
   "source": [
    "### Plasm Code:\n"
   ]
  },
  {
   "cell_type": "markdown",
   "metadata": {},
   "source": [
    "DEF L_shape1 = MKPOL:< verts, cells, pols >\n",
    "WHERE\n",
    "    verts = << 0,0>,< 2,0>,< 2,1>,< 1,1>,< 1,2>,< 0,2>>,\n",
    "    cells = << 1,2,3,4 >, < 4,5,6,1 >,\n",
    "    pols = << 1 >, < 2 >>\n",
    "END;\n",
    "DEF L_shape2 = MKPOL:< verts, cells, pols >\n",
    "WHERE\n",
    "    verts = << 0,0>,< 2,0>,< 2,1>,< 1,1>,< 1,2>,< 0,2>>,\n",
    "    cells = << 1,2,3,4 >, < 4,5,6,1 >>,\n",
    "    pols = << 1,2 >>\n",
    "END;"
   ]
  },
  {
   "cell_type": "markdown",
   "metadata": {},
   "source": [
    "### Python Code:\n"
   ]
  },
  {
   "cell_type": "code",
   "execution_count": 1,
   "metadata": {},
   "outputs": [
    {
     "name": "stdout",
     "output_type": "stream",
     "text": [
      "Evaluating fenvs.py..\n",
      "...fenvs.py imported in 0.012944 seconds\n"
     ]
    }
   ],
   "source": [
    "from pyplasm import*\n",
    "from larlib import*"
   ]
  },
  {
   "cell_type": "code",
   "execution_count": 4,
   "metadata": {},
   "outputs": [
    {
     "data": {
      "text/plain": [
       "<pyplasm.xgepy.Hpc; proxy of <Swig Object of type 'std::shared_ptr< Hpc > *' at 0x181503b480> >"
      ]
     },
     "execution_count": 4,
     "metadata": {},
     "output_type": "execute_result"
    }
   ],
   "source": [
    "def L_shape1():\n",
    "    verts = [[0,0],[2,0],[2,1],[1,1],[1,2],[0,2]]\n",
    "    cells = [[1,2,3,4],[4,5,6,1]]\n",
    "    pols = [[1],[2]]\n",
    "    return MKPOL([verts,cells,pols])\n",
    "VIEW(L_shape1())"
   ]
  },
  {
   "cell_type": "code",
   "execution_count": 14,
   "metadata": {},
   "outputs": [
    {
     "data": {
      "text/plain": [
       "<pyplasm.xgepy.Hpc; proxy of <Swig Object of type 'std::shared_ptr< Hpc > *' at 0x18251ff5a0> >"
      ]
     },
     "execution_count": 14,
     "metadata": {},
     "output_type": "execute_result"
    }
   ],
   "source": [
    "def L_shape2():\n",
    "    verts = [[0,0],[2,0],[2,1],[1,1],[1,2],[0,2]]\n",
    "    cells = [[1,2,3,4],[4,5,6,1]]\n",
    "    pols = [[1,2]]\n",
    "    return MKPOL ([verts,cells,pols])\n",
    "VIEW(L_shape2())"
   ]
  },
  {
   "cell_type": "markdown",
   "metadata": {
    "collapsed": true
   },
   "source": [
    "Script 1.5.3 (Cap.1 pag.27)\n",
    "---------------------------"
   ]
  },
  {
   "cell_type": "markdown",
   "metadata": {},
   "source": [
    "Modelli di Tavolo\n",
    "--------------\n",
    "In questo script vengono date due definizioni equivalenti di tavolo (Table e Table1). Le funzioni utilizzate sono:\n",
    "leg() dove viene generato un modello di gamba del tavolo\n",
    "plane() dove viene generato un modello di piano del tavolo\n",
    "Table() dove viene generato un modello di tavolo traslando ed unendo le gambe al piano\n",
    "Table1() è una versione alternativa della funzione Table() "
   ]
  },
  {
   "cell_type": "markdown",
   "metadata": {},
   "source": [
    "### Plasm Code:"
   ]
  },
  {
   "cell_type": "markdown",
   "metadata": {},
   "source": [
    "DEF Leg = CUBOID:< 0.1,0.1,0.7 >;\n",
    "DEF Plane = CUBOID:< 1,1,0.2 >;\n",
    "DEF Table() = STRUCT:< Leg, T:1:0.9, Leg, T:2:0.9, Leg, T:1:-0.9, Leg, T< 2,3>:<-0.9,0.7>, Plane >;\n",
    "DEF Table1() = STRUCT:< Leg, T:1:0.9:Leg, T:< 1,2 >:< 0.9,0.9 >:Leg, T:2:0.9:Leg, T:3:0.7:Plane >;\n",
    "VRML: Table:'out.wrl'"
   ]
  },
  {
   "cell_type": "markdown",
   "metadata": {},
   "source": [
    "### Python Code:\n"
   ]
  },
  {
   "cell_type": "code",
   "execution_count": 5,
   "metadata": {},
   "outputs": [
    {
     "data": {
      "text/plain": [
       "<pyplasm.xgepy.Hpc; proxy of <Swig Object of type 'std::shared_ptr< Hpc > *' at 0x181503b5d0> >"
      ]
     },
     "execution_count": 5,
     "metadata": {},
     "output_type": "execute_result"
    }
   ],
   "source": [
    "def Leg():\n",
    "    return CUBOID([0.1,0.1,0.7])\n",
    "def Plane():\n",
    "    return CUBOID([1,1,0.2])\n",
    "def Table():\n",
    "    return STRUCT([Leg(),T(1)(0.9),Leg(),T(2)(0.9),Leg(),T(1)(-0.9),Leg(),T([2,3])([-0.9,0.7]),Plane()]);\n",
    "def Table1():\n",
    "    return STRUCT([Leg(),T(1)(0.9)(Leg()),T([1,2])([0.9,0.9])(Leg()),T(2)(0.9)(Leg()),T(3)(0.7)(Plane())]);\n",
    "VIEW (Table())\n",
    "VIEW (Table1())"
   ]
  },
  {
   "cell_type": "markdown",
   "metadata": {},
   "source": [
    "Script 1.5.6 (Cap.1 Pag.31)\n",
    "---------"
   ]
  },
  {
   "cell_type": "markdown",
   "metadata": {},
   "source": [
    "Costruzione di una facciata \n",
    "---------\n",
    "In questo script viene generata la facciata di un palazzo"
   ]
  },
  {
   "cell_type": "markdown",
   "metadata": {},
   "source": [
    "### Plasm Code:\n"
   ]
  },
  {
   "cell_type": "markdown",
   "metadata": {},
   "source": [
    "DEF facade (n,m::IsIntPos) = STRUCT:< \n",
    "Q:xRithm * Q:yRithm,\n",
    "Q:xVoid * Q:yRithm,\n",
    "Q:xRithm * Q:yVoid ,\n",
    "@1:(Q:xVoid * Q:yVoid) >\n",
    "WHERE\n",
    "xRithm = ##:n:<5,-2,-5,-2> AR 5, \n",
    "yRithm = ##:m:<7,-5,-2> AR 7, \n",
    "xVoid = AA:-:xRithm,\n",
    "yVoid = AA:-:yRithm\n",
    "END;"
   ]
  },
  {
   "cell_type": "markdown",
   "metadata": {},
   "source": [
    "### Python Code:\n"
   ]
  },
  {
   "cell_type": "code",
   "execution_count": 6,
   "metadata": {},
   "outputs": [
    {
     "data": {
      "text/plain": [
       "<pyplasm.xgepy.Hpc; proxy of <Swig Object of type 'std::shared_ptr< Hpc > *' at 0x181506c1b0> >"
      ]
     },
     "execution_count": 6,
     "metadata": {},
     "output_type": "execute_result"
    }
   ],
   "source": [
    "def facade(n,m):\n",
    "    xRithm = [5,-2,-5,-2]*n\n",
    "    xRithm.append(5)\n",
    "    yRithm = [7,-5,-2]*m\n",
    "    yRithm.append(7)\n",
    "    xVoid = map(lambda x: -x, xRithm)\n",
    "    yVoid = map(lambda y: -y, yRithm)\n",
    "    return STRUCT([PROD([QUOTE(xRithm),QUOTE(yRithm)]),PROD([QUOTE(xVoid),QUOTE(yRithm)]),PROD([QUOTE(xRithm),QUOTE(yVoid)]),SKEL_1(PROD([QUOTE(xVoid),QUOTE(yVoid)]))])\n",
    "VIEW (facade(6,4))"
   ]
  },
  {
   "cell_type": "markdown",
   "metadata": {
    "collapsed": true
   },
   "source": [
    "Script 1.5.9 (Cap.1 Pag.34)\n",
    "-----"
   ]
  },
  {
   "cell_type": "markdown",
   "metadata": {},
   "source": [
    "Operazioni Booleane tra cubi\n",
    "------\n",
    "In questo script viene prodotta una serie di figure geometriche, che contiene l'unione, l'intersezione, lo XOR e la differenza generata dalla funzione 'a' e dalla sua rotazione generata dalla funzione 'b'"
   ]
  },
  {
   "cell_type": "markdown",
   "metadata": {},
   "source": [
    "### Plasm Code:\n"
   ]
  },
  {
   "cell_type": "markdown",
   "metadata": {},
   "source": [
    "DEF a = T:< 1,2>:<-0.5,-0.5>:(CUBOID:< 1,1,1>); \n",
    "DEF b = R:< 1,2>:(PI/4):a;\n",
    "STRUCT: < a+b,T:1:2,a&b,T:1:2,a∧b,T:1:2,a-b >;"
   ]
  },
  {
   "cell_type": "markdown",
   "metadata": {},
   "source": [
    "### Python Code:\n",
    " "
   ]
  },
  {
   "cell_type": "code",
   "execution_count": 8,
   "metadata": {},
   "outputs": [
    {
     "data": {
      "text/plain": [
       "<pyplasm.xgepy.Hpc; proxy of <Swig Object of type 'std::shared_ptr< Hpc > *' at 0x181506c5d0> >"
      ]
     },
     "execution_count": 8,
     "metadata": {},
     "output_type": "execute_result"
    }
   ],
   "source": [
    "def a():\n",
    "    return (T([1,2])([-0.5,-0.5])(CUBOID([1,1,1])));\n",
    "def b():\n",
    "    return (R([1,2])(PI/4)(a()));\n",
    "def composizione():\n",
    "    unione=UNION([a(),b()])\n",
    "    intersezione=INTERSECTION([a(),b()])\n",
    "    xor=XOR([a(),b()])\n",
    "    differenza=DIFFERENCE([a(),b()])\n",
    "    return STRUCT([unione,T(1)(2)(intersezione),T(1)(4)(xor),T(1)(6)(differenza)])\n",
    "VIEW(composizione())\n",
    "    "
   ]
  },
  {
   "cell_type": "markdown",
   "metadata": {},
   "source": [
    "Script 1.6.3 (Cap.1 Pag.39)\n",
    "--------"
   ]
  },
  {
   "cell_type": "markdown",
   "metadata": {
    "collapsed": true
   },
   "source": [
    "Cubi Colorati\n",
    "-----\n",
    "In questo script vengono prodotti dei cubi con la funzione CUBOID, di color ciano, magenta e giallo "
   ]
  },
  {
   "cell_type": "markdown",
   "metadata": {},
   "source": [
    "### Plasm Code:"
   ]
  },
  {
   "cell_type": "markdown",
   "metadata": {},
   "source": [
    "DEF cube = CUBOID:< 1,1,1>; \n",
    "DEF cube1 = cube COLOR CYAN; \n",
    "DEF cube2 = cube COLOR MAGENTA; \n",
    "DEF cube3 = cube COLOR YELLOW; \n",
    "DEF basis = (EMBED:1 ∼ CUBOID):< 3,3>; \n",
    "DEF assembly = cube1 TOP cube2 TOP cube3; \n",
    "DEF out = basis TOP assembly;\n",
    "DEF out1 = basis TOP ((SWEEP:< 0.2, 0.2, 0.2 > ∼ @1):assembly COLOR RED);"
   ]
  },
  {
   "cell_type": "markdown",
   "metadata": {},
   "source": [
    "### Python Code:"
   ]
  },
  {
   "cell_type": "code",
   "execution_count": 11,
   "metadata": {},
   "outputs": [],
   "source": [
    "def cube():\n",
    "    return(CUBOID([1,1,1]));\n",
    "def cube1():\n",
    "    return(COLOR([0,255,255])(cube())); \n",
    "def cube2():\n",
    "    return(COLOR([255,0,255])(cube()));\n",
    "def cube3():\n",
    "    return(COLOR([255,255,0])(cube()));\n",
    "def basis():\n",
    "    return (COMP([EMBED(1),CUBOID])([3,3]));\n",
    "def assemblyCube():\n",
    "    return (TOP([cube3(),TOP([cube2(),cube1()])]));\n",
    "def out():\n",
    "    return (TOP([basis(),assemblyCube()]));\n",
    "def out1():\n",
    "    return (TOP([basis(),COLOR([255,0,0])(COMP([SWEEP([0.2,0.2,0.2]),SKEL_1])(assemblyCube()))]));\n",
    "def composizione():\n",
    "    return(STRUCT([out(),out1()]));\n"
   ]
  },
  {
   "cell_type": "code",
   "execution_count": 14,
   "metadata": {},
   "outputs": [
    {
     "data": {
      "text/plain": [
       "<pyplasm.xgepy.Hpc; proxy of <Swig Object of type 'std::shared_ptr< Hpc > *' at 0x181fd10030> >"
      ]
     },
     "execution_count": 14,
     "metadata": {},
     "output_type": "execute_result"
    }
   ],
   "source": [
    "VIEW(assemblyCube())"
   ]
  },
  {
   "cell_type": "code",
   "execution_count": 15,
   "metadata": {},
   "outputs": [
    {
     "data": {
      "text/plain": [
       "<pyplasm.xgepy.Hpc; proxy of <Swig Object of type 'std::shared_ptr< Hpc > *' at 0x181fd100f0> >"
      ]
     },
     "execution_count": 15,
     "metadata": {},
     "output_type": "execute_result"
    }
   ],
   "source": [
    "VIEW(out())"
   ]
  },
  {
   "cell_type": "code",
   "execution_count": 17,
   "metadata": {},
   "outputs": [
    {
     "data": {
      "text/plain": [
       "<pyplasm.xgepy.Hpc; proxy of <Swig Object of type 'std::shared_ptr< Hpc > *' at 0x181fd10060> >"
      ]
     },
     "execution_count": 17,
     "metadata": {},
     "output_type": "execute_result"
    }
   ],
   "source": [
    "VIEW(out1())"
   ]
  },
  {
   "cell_type": "code",
   "execution_count": 18,
   "metadata": {},
   "outputs": [
    {
     "data": {
      "text/plain": [
       "<pyplasm.xgepy.Hpc; proxy of <Swig Object of type 'std::shared_ptr< Hpc > *' at 0x181fd10240> >"
      ]
     },
     "execution_count": 18,
     "metadata": {},
     "output_type": "execute_result"
    }
   ],
   "source": [
    "VIEW(composizione())"
   ]
  },
  {
   "cell_type": "markdown",
   "metadata": {},
   "source": [
    "Script 1.6.6 (Cap.1 Pag.43)\n",
    "------"
   ]
  },
  {
   "cell_type": "markdown",
   "metadata": {},
   "source": [
    "Manhattan 2D\n",
    "-----\n",
    "In questo script tramite la funzione MKPOL, viene costruito un modellino di Manhattan in 2D"
   ]
  },
  {
   "cell_type": "markdown",
   "metadata": {},
   "source": [
    "### Plasm Code:"
   ]
  },
  {
   "cell_type": "markdown",
   "metadata": {},
   "source": [
    "DEF Manhattan2D = MKPOL:< verts, cells, pols > \n",
    "WHERE verts = < < 0,0>,< 3,0>,< 5,0>,< 7,0>,< 8,0>,< 9.5,1>,< 10,1.5>,< 0,3>,< 3,3>,< 5,3>, \n",
    "< 7,3>,< 8,3>,< 9.5,3>,< 0,4>,< 3,4>,< 5,4>,< 9.5,4>,< 12,4>,< 9.5,5>,< 10,5>, \n",
    "< 12,5>,< 0,6>,< 3,6>,< 5,6>,< 0,7>,< 3,7>,< 5,7>,< 9.5,7>,< 12,7>,< 9.5,8>, \n",
    "< 12,8>,< 0,9>,< 3,9>,< 5,9>,< 8,9>,< 9,9>,< 12,9>,< 0,10>,< 3,10>,< 5,10>,\n",
    "< 8,10>,< 9,10>,< 9.5,10>,< 10,10>,< 12,10>,< 6,11>,< 7,11>,< 0,12>,< 3,12>,< 9,12>, \n",
    "< 9.5,12>,< 0,13>,< 3,13>,< 6,13>,< 7,13>,< 9,13>,< 9.5,13>,< 0,14>,< 3,14>,< 5,14>, \n",
    "< 8,14>,< 9,14>,< 9.5,14>,< 10,14>,< 12,14>,< 0,15>,< 3,15>,< 5,15>,< 8,15>,< 0,16>, \n",
    "< 6,16>,< 7,16>,< 9,17>,< 9.5,17>,< 10,17>,< 12,17>,< 6,18>,< 7,18>,< 9,18>,< 9.5,18>, \n",
    "< 10,18>,< 12,18>,< 2,19>,< 3,19>,< 5,19>,< 8,19>,< 9,19>,< 9.5,19>,< 10,19>,< 12,19>, \n",
    "< 5,20>,< 12,20>,< 7,22>,< 10,22>,< 9,6>,< 12,6>,< 9,15>,< 9.5,15>,< 10,15>,< 12,15> >, \n",
    "cells = < < 1,2,9,8>,< 3,4,11,10>,< 5,6,13,12>,< 14,15,23,22>, \n",
    "< 16,17,19,24>,< 7,18,21,20>,< 25,26,33,32>,< 27,95,28,35,34>,< 95,96,29,28>,\n",
    "< 30,31,37,36>,< 38,39,49,48>,< 40,41,47,46>,< 41,61,55,47>,< 55,61,60,54>, \n",
    "< 54,60,40,46>,< 42,43,51,50>,< 44,45,65,64>,< 52,53,59,58>,< 56,57,63,62>,\n",
    "< 66,67,84,83,70>, < 68,69,72,71>,< 69,86,78,72>,< 78,86,85,77>,< 71,77,85,68>,\n",
    "< 97,98,74,73>, < 99,100,76,75>,< 79,80,88,87>,< 81,82,90,89>, < 91,92,94,93> >,\n",
    "pols = AA:LIST:(1..29) \n",
    "END;"
   ]
  },
  {
   "cell_type": "markdown",
   "metadata": {},
   "source": [
    "### Python Code:"
   ]
  },
  {
   "cell_type": "code",
   "execution_count": 19,
   "metadata": {},
   "outputs": [
    {
     "data": {
      "text/plain": [
       "<pyplasm.xgepy.Hpc; proxy of <Swig Object of type 'std::shared_ptr< Hpc > *' at 0x181fd25360> >"
      ]
     },
     "execution_count": 19,
     "metadata": {},
     "output_type": "execute_result"
    }
   ],
   "source": [
    "def manhattan2D():\n",
    "    verts = [[0, 0], [3, 0], [5, 0], [7, 0], [8, 0], [9.5, 1], [10, 1.5], [0, 3], [3, 3], [5, 3], [7, 3], [8, 3],\n",
    "             [9.5, 3], [0, 4], [3, 4], [5, 4], [9.5, 4], [12, 4], [9.5, 5], [10, 5], [12, 5], [0, 6], [3, 6], [5, 6],\n",
    "             [0, 7], [3, 7], [5, 7], [9.5, 7], [12, 7], [9.5, 8], [12, 8], [0, 9], [3, 9], [5, 9], [8, 9], [9, 9],\n",
    "             [12, 9], [0, 10], [3, 10], [5, 10], [8, 10], [9, 10], [9.5, 10], [10, 10], [12, 10], [6, 11], [7, 11],\n",
    "             [0, 12], [3, 12], [9, 12], [9.5, 12], [0, 13], [3, 13], [6, 13], [7, 13], [9, 13], [9.5, 13], [0, 14],\n",
    "             [3, 14], [5, 14], [8, 14], [9, 14], [9.5, 14], [10, 14], [12, 14], [0, 15], [3, 15], [5, 15], [8, 15],\n",
    "             [0, 16], [6, 16], [7, 16], [9, 17], [9.5, 17], [10, 17], [12, 17], [6, 18], [7, 18], [9, 18], [9.5, 18],\n",
    "             [10, 18], [12, 18], [2, 19], [3, 19], [5, 19], [8, 19], [9, 19], [9.5, 19], [10, 19], [12, 19], [5, 20],\n",
    "             [12, 20], [7, 22], [10, 22], [9, 6], [12, 6], [9, 15], [9.5, 15], [10, 15], [12, 15]]\n",
    "\n",
    "    cells = [[1, 2, 9, 8], [3, 4, 11, 10], [5, 6, 13, 12], [14, 15, 23, 22], [16, 17, 19, 24], [7, 18, 21, 20],\n",
    "             [25, 26, 33, 32], [27, 95, 28, 35, 34], [95, 96, 29, 28], [30, 31, 37, 36], [38, 39, 49, 48],\n",
    "             [40, 41, 47, 46], [41, 61, 55, 47], [55, 61, 60, 54], [54, 60, 40, 46], [42, 43, 51, 50], [44, 45, 65, 64],\n",
    "             [52, 53, 59, 58], [56, 57, 63, 62], [66, 67, 84, 83, 70], [68, 69, 72, 71], [69, 86, 78, 72],\n",
    "             [78, 86, 85, 77], [71, 77, 85, 68], [97, 98, 74, 73], [99, 100, 76, 75], [79, 80, 88, 87],\n",
    "             [81, 82, 90, 89], [91, 92, 94, 93]]\n",
    "\n",
    "    pols = range(1, 29)\n",
    "\n",
    "    return MKPOL([verts, cells, AA(LIST)(pols)])\n",
    "VIEW(manhattan2D())"
   ]
  },
  {
   "cell_type": "code",
   "execution_count": null,
   "metadata": {
    "collapsed": true
   },
   "outputs": [],
   "source": []
  }
 ],
 "metadata": {
  "kernelspec": {
   "display_name": "Python 2",
   "language": "python",
   "name": "python2"
  },
  "language_info": {
   "codemirror_mode": {
    "name": "ipython",
    "version": 2
   },
   "file_extension": ".py",
   "mimetype": "text/x-python",
   "name": "python",
   "nbconvert_exporter": "python",
   "pygments_lexer": "ipython2",
   "version": "2.7.13"
  }
 },
 "nbformat": 4,
 "nbformat_minor": 2
}
